{
 "cells": [
  {
   "cell_type": "code",
   "execution_count": 1,
   "metadata": {},
   "outputs": [],
   "source": [
    "import numpy as np\n",
    "import pandas as pd\n",
    "from sklearn import decomposition\n",
    "from sklearn import datasets\n",
    "from sklearn.preprocessing import StandardScaler\n",
    "import seaborn as sns\n",
    "import matplotlib.pyplot as plt"
   ]
  },
  {
   "cell_type": "code",
   "execution_count": 4,
   "metadata": {},
   "outputs": [],
   "source": [
    "data = pd.read_csv(r\"C:\\\\Users\\\\Haripriya Mudumba\\\\Desktop\\\\Workshop\\\\haripriya\\\\wineQualityReds.csv\",index_col=False)"
   ]
  },
  {
   "cell_type": "code",
   "execution_count": 5,
   "metadata": {},
   "outputs": [],
   "source": [
    "X = data.iloc[:, :12].values\n",
    "y = data.iloc[:, 12].values"
   ]
  },
  {
   "cell_type": "code",
   "execution_count": 6,
   "metadata": {},
   "outputs": [],
   "source": [
    "sc = StandardScaler()"
   ]
  },
  {
   "cell_type": "code",
   "execution_count": 7,
   "metadata": {},
   "outputs": [
    {
     "data": {
      "text/html": [
       "<div>\n",
       "<style scoped>\n",
       "    .dataframe tbody tr th:only-of-type {\n",
       "        vertical-align: middle;\n",
       "    }\n",
       "\n",
       "    .dataframe tbody tr th {\n",
       "        vertical-align: top;\n",
       "    }\n",
       "\n",
       "    .dataframe thead th {\n",
       "        text-align: right;\n",
       "    }\n",
       "</style>\n",
       "<table border=\"1\" class=\"dataframe\">\n",
       "  <thead>\n",
       "    <tr style=\"text-align: right;\">\n",
       "      <th></th>\n",
       "      <th>Unnamed: 0</th>\n",
       "      <th>fixed.acidity</th>\n",
       "      <th>volatile.acidity</th>\n",
       "      <th>citric.acid</th>\n",
       "      <th>residual.sugar</th>\n",
       "      <th>chlorides</th>\n",
       "      <th>free.sulfur.dioxide</th>\n",
       "      <th>total.sulfur.dioxide</th>\n",
       "      <th>density</th>\n",
       "      <th>pH</th>\n",
       "      <th>sulphates</th>\n",
       "      <th>alcohol</th>\n",
       "      <th>quality</th>\n",
       "    </tr>\n",
       "  </thead>\n",
       "  <tbody>\n",
       "    <tr>\n",
       "      <th>0</th>\n",
       "      <td>1</td>\n",
       "      <td>7.4</td>\n",
       "      <td>0.70</td>\n",
       "      <td>0.00</td>\n",
       "      <td>1.9</td>\n",
       "      <td>0.076</td>\n",
       "      <td>11.0</td>\n",
       "      <td>34.0</td>\n",
       "      <td>0.9978</td>\n",
       "      <td>3.51</td>\n",
       "      <td>0.56</td>\n",
       "      <td>9.4</td>\n",
       "      <td>5</td>\n",
       "    </tr>\n",
       "    <tr>\n",
       "      <th>1</th>\n",
       "      <td>2</td>\n",
       "      <td>7.8</td>\n",
       "      <td>0.88</td>\n",
       "      <td>0.00</td>\n",
       "      <td>2.6</td>\n",
       "      <td>0.098</td>\n",
       "      <td>25.0</td>\n",
       "      <td>67.0</td>\n",
       "      <td>0.9968</td>\n",
       "      <td>3.20</td>\n",
       "      <td>0.68</td>\n",
       "      <td>9.8</td>\n",
       "      <td>5</td>\n",
       "    </tr>\n",
       "    <tr>\n",
       "      <th>2</th>\n",
       "      <td>3</td>\n",
       "      <td>7.8</td>\n",
       "      <td>0.76</td>\n",
       "      <td>0.04</td>\n",
       "      <td>2.3</td>\n",
       "      <td>0.092</td>\n",
       "      <td>15.0</td>\n",
       "      <td>54.0</td>\n",
       "      <td>0.9970</td>\n",
       "      <td>3.26</td>\n",
       "      <td>0.65</td>\n",
       "      <td>9.8</td>\n",
       "      <td>5</td>\n",
       "    </tr>\n",
       "    <tr>\n",
       "      <th>3</th>\n",
       "      <td>4</td>\n",
       "      <td>11.2</td>\n",
       "      <td>0.28</td>\n",
       "      <td>0.56</td>\n",
       "      <td>1.9</td>\n",
       "      <td>0.075</td>\n",
       "      <td>17.0</td>\n",
       "      <td>60.0</td>\n",
       "      <td>0.9980</td>\n",
       "      <td>3.16</td>\n",
       "      <td>0.58</td>\n",
       "      <td>9.8</td>\n",
       "      <td>6</td>\n",
       "    </tr>\n",
       "    <tr>\n",
       "      <th>4</th>\n",
       "      <td>5</td>\n",
       "      <td>7.4</td>\n",
       "      <td>0.70</td>\n",
       "      <td>0.00</td>\n",
       "      <td>1.9</td>\n",
       "      <td>0.076</td>\n",
       "      <td>11.0</td>\n",
       "      <td>34.0</td>\n",
       "      <td>0.9978</td>\n",
       "      <td>3.51</td>\n",
       "      <td>0.56</td>\n",
       "      <td>9.4</td>\n",
       "      <td>5</td>\n",
       "    </tr>\n",
       "  </tbody>\n",
       "</table>\n",
       "</div>"
      ],
      "text/plain": [
       "   Unnamed: 0  fixed.acidity  volatile.acidity  citric.acid  residual.sugar  \\\n",
       "0           1            7.4              0.70         0.00             1.9   \n",
       "1           2            7.8              0.88         0.00             2.6   \n",
       "2           3            7.8              0.76         0.04             2.3   \n",
       "3           4           11.2              0.28         0.56             1.9   \n",
       "4           5            7.4              0.70         0.00             1.9   \n",
       "\n",
       "   chlorides  free.sulfur.dioxide  total.sulfur.dioxide  density    pH  \\\n",
       "0      0.076                 11.0                  34.0   0.9978  3.51   \n",
       "1      0.098                 25.0                  67.0   0.9968  3.20   \n",
       "2      0.092                 15.0                  54.0   0.9970  3.26   \n",
       "3      0.075                 17.0                  60.0   0.9980  3.16   \n",
       "4      0.076                 11.0                  34.0   0.9978  3.51   \n",
       "\n",
       "   sulphates  alcohol  quality  \n",
       "0       0.56      9.4        5  \n",
       "1       0.68      9.8        5  \n",
       "2       0.65      9.8        5  \n",
       "3       0.58      9.8        6  \n",
       "4       0.56      9.4        5  "
      ]
     },
     "execution_count": 7,
     "metadata": {},
     "output_type": "execute_result"
    }
   ],
   "source": [
    "data.head()"
   ]
  },
  {
   "cell_type": "code",
   "execution_count": 8,
   "metadata": {},
   "outputs": [],
   "source": [
    "Z = sc.fit_transform(X)"
   ]
  },
  {
   "cell_type": "code",
   "execution_count": 9,
   "metadata": {},
   "outputs": [],
   "source": [
    "data1 = data.drop(columns = \"quality\")"
   ]
  },
  {
   "cell_type": "markdown",
   "metadata": {},
   "source": [
    "## PCA from scratch¶"
   ]
  },
  {
   "cell_type": "code",
   "execution_count": 10,
   "metadata": {},
   "outputs": [
    {
     "data": {
      "image/png": "[encoded data removed]",
      "text/plain": [
       "<Figure size 432x288 with 2 Axes>"
      ]
     },
     "metadata": {},
     "output_type": "display_data"
    }
   ],
   "source": [
    "# Estimate the covariance matrix\n",
    "\n",
    "P = np.dot(Z.T, Z) / data.shape[0]\n",
    "\n",
    "sns.set(font_scale=0.5)\n",
    "hm = sns.heatmap(P, \n",
    "            cbar=True,\n",
    "            square=True,\n",
    "            yticklabels=data1.columns,\n",
    "            xticklabels=data1.columns)\n",
    "\n",
    "plt.tight_layout()\n",
    "\n",
    "plt.show()\n",
    "\n",
    "sns.reset_orig()"
   ]
  },
  {
   "cell_type": "code",
   "execution_count": 11,
   "metadata": {},
   "outputs": [
    {
     "name": "stdout",
     "output_type": "stream",
     "text": [
      "\n",
      "Eigenvalues: \n",
      "[0.05918753 0.17586068 0.32108175 0.42111997 0.56297199 0.62379443\n",
      " 0.87699684 0.96430043 1.21509636 1.6096374  1.9545513  3.21540133]\n"
     ]
    }
   ],
   "source": [
    "# calculate eigen values\n",
    "\n",
    "eigen_vals, eigen_vecs = np.linalg.eigh(P)\n",
    "\n",
    "print('\\nEigenvalues: \\n%s' % eigen_vals)"
   ]
  },
  {
   "cell_type": "code",
   "execution_count": 12,
   "metadata": {},
   "outputs": [],
   "source": [
    "# Make a list of (eigenvalue, eigenvector) tuples\n",
    "eigen_pairs = [(np.abs(eigen_vals[i]), eigen_vecs[:,i]) for i in range(len(eigen_vals))]\n",
    "\n",
    "# Sort the (eigenvalue, eigenvector) tuples from high to low\n",
    "eigen_pairs.sort(reverse=True)"
   ]
  },
  {
   "cell_type": "code",
   "execution_count": 13,
   "metadata": {},
   "outputs": [
    {
     "data": {
      "text/plain": [
       "[(3.2154013312569147,\n",
       "  array([-0.22626362,  0.47745619, -0.21192285,  0.43941372,  0.14110947,\n",
       "          0.21124664, -0.03763606,  0.03651861,  0.40657634, -0.42031013,\n",
       "          0.23355672, -0.13799957])),\n",
       " (1.9545512992699308,\n",
       "  array([ 0.16365465,  0.13139058, -0.32458044,  0.20332709, -0.23725045,\n",
       "         -0.13558179, -0.46083271, -0.53498091, -0.23715487, -0.04342567,\n",
       "          0.0688096 ,  0.41611868])),\n",
       " (1.609637396259248,\n",
       "  array([ 0.25308032, -0.09115348, -0.40647428,  0.24601504,  0.16912832,\n",
       "         -0.04753082,  0.48785619,  0.37193546, -0.26880101, -0.00303612,\n",
       "          0.25716888,  0.39534088])),\n",
       " (1.2150963556984449,\n",
       "  array([-0.06166335, -0.23852838,  0.05699217, -0.07429101, -0.38166497,\n",
       "          0.64779898, -0.03627557, -0.02415848, -0.19200216,  0.01368546,\n",
       "          0.56264729, -0.09848494])),\n",
       " (0.9643004327900924,\n",
       "  array([ 0.19625891, -0.06337644,  0.25850359, -0.06011073,  0.7287418 ,\n",
       "          0.30819594, -0.15317813, -0.23862587,  0.16268619,  0.18367802,\n",
       "          0.18257995,  0.29501426])),\n",
       " (0.8769968352683478,\n",
       "  array([-0.77748689, -0.08298494, -0.13575645, -0.01558089,  0.07389718,\n",
       "         -0.23880582, -0.062825  ,  0.03400834,  0.06540786,  0.42973682,\n",
       "          0.26256765,  0.21087628])),\n",
       " (0.6237944348842488,\n",
       "  array([-0.26909496,  0.20974206,  0.56180922,  0.04156833, -0.09099461,\n",
       "          0.08020342, -0.01853028,  0.22521921, -0.29143633, -0.35477739,\n",
       "         -0.13731847,  0.52038493])),\n",
       " (0.5629719863177,\n",
       "  array([ 0.28361991,  0.30461082,  0.3490579 , -0.16055802, -0.25706502,\n",
       "         -0.41557429,  0.18536957, -0.05554507,  0.30975162,  0.10028738,\n",
       "          0.53688363,  0.09312624])),\n",
       " (0.42111996845131683,\n",
       "  array([-0.0598844 , -0.19891511, -0.07772172, -0.34882253,  0.305399  ,\n",
       "         -0.34881411, -0.26210571,  0.07484324, -0.26191113, -0.55175596,\n",
       "          0.35453952, -0.20287364])),\n",
       " (0.32108175162740427,\n",
       "  array([ 0.21184068, -0.1747413 ,  0.17280871,  0.44080831, -0.0402397 ,\n",
       "         -0.12716932, -0.57685308,  0.53633861,  0.04941254,  0.20923536,\n",
       "          0.09124886, -0.08750403])),\n",
       " (0.17586067615998993,\n",
       "  array([ 0.09659128,  0.24089627, -0.35019696, -0.58888836, -0.10413304,\n",
       "          0.20770597, -0.28253336,  0.40292752,  0.2719047 ,  0.02650602,\n",
       "         -0.09773627,  0.28786012])),\n",
       " (0.05918753201636211,\n",
       "  array([-0.02283958, -0.6432356 , -0.00066351,  0.07341415, -0.18140693,\n",
       "         -0.05437936,  0.05913905, -0.07760916,  0.55922897, -0.3435179 ,\n",
       "         -0.07109214,  0.31488785]))]"
      ]
     },
     "execution_count": 13,
     "metadata": {},
     "output_type": "execute_result"
    }
   ],
   "source": [
    "eigen_pairs"
   ]
  },
  {
   "cell_type": "code",
   "execution_count": 14,
   "metadata": {},
   "outputs": [],
   "source": [
    "### next step is to find the PCs that explain maximum variance, this can be done using a scree plot that calculate\n",
    "## the variance explained by each Eigen value.\n",
    "\n"
   ]
  },
  {
   "cell_type": "code",
   "execution_count": 15,
   "metadata": {},
   "outputs": [
    {
     "data": {
      "image/png": "[encoded data removed]",
      "text/plain": [
       "<Figure size 640x480 with 1 Axes>"
      ]
     },
     "metadata": {},
     "output_type": "display_data"
    }
   ],
   "source": [
    "import matplotlib.pyplot as plt\n",
    "\n",
    "tot = sum(np.abs(eigen_vals))\n",
    "var_exp = [(i / tot) for i in sorted(np.abs(eigen_vals), reverse=True)]\n",
    "cum_var_exp = np.cumsum(var_exp)\n",
    "\n",
    "plt.bar(range(1, eigen_vals.size + 1), var_exp, alpha=0.5, align='center',\n",
    "        label='Individual')\n",
    "plt.step(range(1, eigen_vals.size + 1), cum_var_exp, where='mid',\n",
    "         label='Cumulative')\n",
    "plt.ylabel('Explained variance ratio')\n",
    "plt.xlabel('Principal components')\n",
    "plt.legend(loc='best')\n",
    "plt.tight_layout()\n",
    "\n",
    "plt.show()"
   ]
  },
  {
   "cell_type": "code",
   "execution_count": 16,
   "metadata": {},
   "outputs": [],
   "source": [
    "### we can see that variance started increasing at 2nd component."
   ]
  },
  {
   "cell_type": "code",
   "execution_count": 17,
   "metadata": {},
   "outputs": [],
   "source": [
    "# so we pick two PCs and form the projection matrix W."
   ]
  },
  {
   "cell_type": "code",
   "execution_count": 18,
   "metadata": {},
   "outputs": [
    {
     "name": "stdout",
     "output_type": "stream",
     "text": [
      "Peojection matrix W:\n",
      " [[-0.22626362  0.16365465]\n",
      " [ 0.47745619  0.13139058]\n",
      " [-0.21192285 -0.32458044]\n",
      " [ 0.43941372  0.20332709]\n",
      " [ 0.14110947 -0.23725045]\n",
      " [ 0.21124664 -0.13558179]\n",
      " [-0.03763606 -0.46083271]\n",
      " [ 0.03651861 -0.53498091]\n",
      " [ 0.40657634 -0.23715487]\n",
      " [-0.42031013 -0.04342567]\n",
      " [ 0.23355672  0.0688096 ]\n",
      " [-0.13799957  0.41611868]]\n"
     ]
    }
   ],
   "source": [
    "W = np.hstack((eigen_pairs[0][1][:, np.newaxis],\n",
    "               eigen_pairs[1][1][:, np.newaxis]))\n",
    "print('Peojection matrix W:\\n', W)"
   ]
  },
  {
   "cell_type": "code",
   "execution_count": 19,
   "metadata": {},
   "outputs": [
    {
     "data": {
      "image/png": "[encoded data removed]",
      "text/plain": [
       "<Figure size 640x480 with 1 Axes>"
      ]
     },
     "metadata": {},
     "output_type": "display_data"
    }
   ],
   "source": [
    "# find the compressed dataset and project in a 2D space\n",
    "Z_pca = Z.dot(W)\n",
    "\n",
    "colors = ['r', 'b', 'g']\n",
    "markers = ['s', 'x', 'o']\n",
    "for l, c, m in zip(np.unique(y), colors, markers):\n",
    "    plt.scatter(Z_pca[y==l, 0], \n",
    "                Z_pca[y==l, 1], \n",
    "                c=c, label=l, marker=m)\n",
    "\n",
    "plt.title('Z_pca')\n",
    "plt.xlabel('PC 1')\n",
    "plt.ylabel('PC 2')\n",
    "plt.legend(loc='lower left')\n",
    "plt.tight_layout()\n",
    "\n",
    "plt.show()"
   ]
  },
  {
   "cell_type": "code",
   "execution_count": 20,
   "metadata": {},
   "outputs": [],
   "source": [
    "from sklearn.preprocessing import StandardScaler\n",
    "sc = StandardScaler()\n",
    "X = sc.fit_transform(X)"
   ]
  },
  {
   "cell_type": "code",
   "execution_count": 21,
   "metadata": {},
   "outputs": [
    {
     "data": {
      "text/plain": [
       "array([[-1.73096794, -0.52835961,  0.96187667, ...,  1.28864292,\n",
       "        -0.57920652, -0.96024611],\n",
       "       [-1.72880152, -0.29854743,  1.96744245, ..., -0.7199333 ,\n",
       "         0.1289504 , -0.58477711],\n",
       "       [-1.7266351 , -0.29854743,  1.29706527, ..., -0.33117661,\n",
       "        -0.04808883, -0.58477711],\n",
       "       ...,\n",
       "       [ 1.7266351 , -1.1603431 , -0.09955388, ...,  0.70550789,\n",
       "         0.54204194,  0.54162988],\n",
       "       [ 1.72880152, -1.39015528,  0.65462046, ...,  1.6773996 ,\n",
       "         0.30598963, -0.20930812],\n",
       "       [ 1.73096794, -1.33270223, -1.21684919, ...,  0.51112954,\n",
       "         0.01092425,  0.54162988]])"
      ]
     },
     "execution_count": 21,
     "metadata": {},
     "output_type": "execute_result"
    }
   ],
   "source": [
    "X"
   ]
  },
  {
   "cell_type": "code",
   "execution_count": 22,
   "metadata": {},
   "outputs": [
    {
     "data": {
      "text/plain": [
       "array([[-1.10503704,  1.01738783, -2.23928527, ..., -0.27896747,\n",
       "         1.55757089, -0.25757413],\n",
       "       [-0.31147729,  2.23038887, -1.10113815, ..., -0.18677232,\n",
       "         0.64264773,  1.51369661],\n",
       "       [-0.27670935,  1.30491076, -1.49627925, ..., -0.26925304,\n",
       "         0.91764327,  0.93835103],\n",
       "       ...,\n",
       "       [-1.83311006,  0.02614818,  1.422036  , ...,  0.38781634,\n",
       "        -0.73639299, -0.75308498],\n",
       "       [-2.58477688,  0.79211269,  0.95249609, ...,  0.25681873,\n",
       "        -0.65716789, -1.00202224],\n",
       "       [-0.87709224, -0.93222218,  1.89664547, ...,  0.61138866,\n",
       "        -0.65064108, -1.23110205]])"
      ]
     },
     "execution_count": 22,
     "metadata": {},
     "output_type": "execute_result"
    }
   ],
   "source": [
    "pca = decomposition.PCA(n_components= 7)\n",
    "pca.fit(X)\n",
    "pca.transform(X)"
   ]
  },
  {
   "cell_type": "code",
   "execution_count": 152,
   "metadata": {},
   "outputs": [],
   "source": [
    "explained_variance = pca.explained_variance_ratio_"
   ]
  },
  {
   "cell_type": "code",
   "execution_count": 153,
   "metadata": {},
   "outputs": [
    {
     "data": {
      "text/plain": [
       "array([0.26795011, 0.16287927, 0.13413645, 0.10125803, 0.08035837,\n",
       "       0.07308307, 0.05198287])"
      ]
     },
     "execution_count": 153,
     "metadata": {},
     "output_type": "execute_result"
    }
   ],
   "source": [
    "explained_variance"
   ]
  },
  {
   "cell_type": "code",
   "execution_count": 154,
   "metadata": {},
   "outputs": [],
   "source": [
    "var = np.cumsum((pca.explained_variance_ratio_))"
   ]
  },
  {
   "cell_type": "code",
   "execution_count": 155,
   "metadata": {},
   "outputs": [
    {
     "data": {
      "text/plain": [
       "array([0.26795011, 0.43082939, 0.56496584, 0.66622387, 0.74658223,\n",
       "       0.8196653 , 0.87164817])"
      ]
     },
     "execution_count": 155,
     "metadata": {},
     "output_type": "execute_result"
    }
   ],
   "source": [
    "var"
   ]
  },
  {
   "cell_type": "code",
   "execution_count": 156,
   "metadata": {},
   "outputs": [
    {
     "data": {
      "text/plain": [
       "[<matplotlib.lines.Line2D at 0x7f77b69f2048>]"
      ]
     },
     "execution_count": 156,
     "metadata": {},
     "output_type": "execute_result"
    },
    {
     "data": {
      "image/png": "[encoded data removed]",
      "text/plain": [
       "<Figure size 432x288 with 1 Axes>"
      ]
     },
     "metadata": {
      "needs_background": "light"
     },
     "output_type": "display_data"
    }
   ],
   "source": [
    "#scree plot\n",
    "plt.plot(var)"
   ]
  },
  {
   "cell_type": "code",
   "execution_count": 88,
   "metadata": {},
   "outputs": [],
   "source": [
    "data1 =data.drop(columns = \"quality\")"
   ]
  },
  {
   "cell_type": "code",
   "execution_count": 144,
   "metadata": {},
   "outputs": [
    {
     "name": "stdout",
     "output_type": "stream",
     "text": [
      "Explained variance by component: [0.26795011 0.16287927 0.13413645 0.10125803 0.08035837]\n",
      "   Unnamed: 0  fixed.acidity  volatile.acidity  citric.acid  residual.sugar  \\\n",
      "0   -0.226264       0.477456         -0.211923     0.439414        0.141109   \n",
      "1   -0.163655      -0.131391          0.324580    -0.203327        0.237250   \n",
      "2    0.253080      -0.091153         -0.406474     0.246015        0.169128   \n",
      "3   -0.061663      -0.238528          0.056992    -0.074291       -0.381665   \n",
      "4    0.196259      -0.063376          0.258504    -0.060111        0.728742   \n",
      "\n",
      "   chlorides  free.sulfur.dioxide  total.sulfur.dioxide   density        pH  \\\n",
      "0   0.211247            -0.037636              0.036519  0.406576 -0.420310   \n",
      "1   0.135582             0.460833              0.534981  0.237155  0.043426   \n",
      "2  -0.047531             0.487856              0.371935 -0.268801 -0.003036   \n",
      "3   0.647799            -0.036276             -0.024158 -0.192002  0.013685   \n",
      "4   0.308196            -0.153178             -0.238626  0.162686  0.183678   \n",
      "\n",
      "   sulphates   alcohol  \n",
      "0   0.233557 -0.138000  \n",
      "1  -0.068810 -0.416119  \n",
      "2   0.257169  0.395341  \n",
      "3   0.562647 -0.098485  \n",
      "4   0.182580  0.295014  \n"
     ]
    }
   ],
   "source": [
    "## features explained by the components\n",
    "\n",
    "print(\"Explained variance by component: %s\" % pca.explained_variance_ratio_)\n",
    "print(pd.DataFrame(pca.components_,columns=data1.columns))"
   ]
  },
  {
   "cell_type": "code",
   "execution_count": null,
   "metadata": {},
   "outputs": [],
   "source": [
    "#fixed.acidity,volatile acidity,citric.acid,reisual sugar,chlorides,density,ph,sulphates------- acidity"
   ]
  },
  {
   "cell_type": "code",
   "execution_count": null,
   "metadata": {},
   "outputs": [],
   "source": [
    "#alcohol,free sulfur dioxide"
   ]
  },
  {
   "cell_type": "code",
   "execution_count": null,
   "metadata": {},
   "outputs": [],
   "source": [
    "#"
   ]
  },
  {
   "cell_type": "code",
   "execution_count": null,
   "metadata": {},
   "outputs": [],
   "source": []
  },
  {
   "cell_type": "code",
   "execution_count": null,
   "metadata": {},
   "outputs": [],
   "source": []
  },
  {
   "cell_type": "code",
   "execution_count": null,
   "metadata": {},
   "outputs": [],
   "source": []
  }
 ],
 "metadata": {
  "kernelspec": {
   "display_name": "Python 3",
   "language": "python",
   "name": "python3"
  },
  "language_info": {
   "codemirror_mode": {
    "name": "ipython",
    "version": 3
   },
   "file_extension": ".py",
   "mimetype": "text/x-python",
   "name": "python",
   "nbconvert_exporter": "python",
   "pygments_lexer": "ipython3",
   "version": "3.6.5"
  }
 },
 "nbformat": 4,
 "nbformat_minor": 2
}
